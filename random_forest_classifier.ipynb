{
 "cells": [
  {
   "cell_type": "code",
   "execution_count": 19,
   "metadata": {},
   "outputs": [],
   "source": [
    "from sklearn.ensemble import RandomForestClassifier\n",
    "from sklearn.model_selection import StratifiedKFold\n",
    "from sklearn import metrics\n",
    "from pandas import *\n",
    "import csv\n",
    "import numpy as np"
   ]
  },
  {
   "cell_type": "code",
   "execution_count": 10,
   "metadata": {},
   "outputs": [
    {
     "data": {
      "text/plain": [
       "[[1, 1, 1, 1, 1], [2, 2, 2, 2, 2], [3, 3, 3, 3]]"
      ]
     },
     "execution_count": 10,
     "metadata": {},
     "output_type": "execute_result"
    }
   ],
   "source": [
    "ex = [[1,1,1,1,1],[2,2,2,2,2],[3,3,3,3]]\n",
    "ex[0:]"
   ]
  },
  {
   "cell_type": "code",
   "execution_count": 3,
   "metadata": {},
   "outputs": [],
   "source": [
    "b = [\n",
    "    [1,1,0],\n",
    "    [1,1,0],\n",
    "    [1,0,1]\n",
    "]\n",
    "\n",
    "m = [\n",
    "    [0,1,1],\n",
    "    [1,1,1],\n",
    "    [0,0,1]\n",
    "]"
   ]
  },
  {
   "cell_type": "code",
   "execution_count": 32,
   "metadata": {},
   "outputs": [
    {
     "name": "stdout",
     "output_type": "stream",
     "text": [
      "      Src Port  Dst Port  Protocol  Flow Duration  Tot Fwd Pkts  Tot Bwd Pkts  \\\n",
      "0            0         0         0      118169498            73             1   \n",
      "1         7500      7500        17      111001334             9             1   \n",
      "2         2190      2190        17       61031330             1             1   \n",
      "3        21302     21302        17      114482871             9             1   \n",
      "4        61520      5000        17      109570318             6             1   \n",
      "...        ...       ...       ...            ...           ...           ...   \n",
      "2866     50326        53        17          94292             1             3   \n",
      "2867     43592        53        17        5063215             3             4   \n",
      "2868        80     45764         6          76959             1             2   \n",
      "2869     47363        53        17          33058             1             3   \n",
      "2870     38423       123        17          51777             0             2   \n",
      "\n",
      "      TotLen Fwd Pkts  TotLen Bwd Pkts  Fwd Pkt Len Max  Fwd Pkt Len Min  ...  \\\n",
      "0                 0.0              0.0              0.0              0.0  ...   \n",
      "1               324.0             36.0             36.0             36.0  ...   \n",
      "2               178.0            178.0            178.0            178.0  ...   \n",
      "3             10863.0           1207.0           1207.0           1207.0  ...   \n",
      "4                72.0             12.0             12.0             12.0  ...   \n",
      "...               ...              ...              ...              ...  ...   \n",
      "2866             43.0            268.0             43.0             43.0  ...   \n",
      "2867            129.0            348.0             43.0             43.0  ...   \n",
      "2868              0.0              0.0              0.0              0.0  ...   \n",
      "2869             43.0            268.0             43.0             43.0  ...   \n",
      "2870              0.0             96.0              0.0              0.0  ...   \n",
      "\n",
      "      Fwd Act Data Pkts  Fwd Seg Size Min  Active Mean  Active Std  \\\n",
      "0                     0                 0            0           0   \n",
      "1                     9                 0            0           0   \n",
      "2                     1                 0            0           0   \n",
      "3                     9                 0            0           0   \n",
      "4                     6                 0            0           0   \n",
      "...                 ...               ...          ...         ...   \n",
      "2866                  1                 0            0           0   \n",
      "2867                  3                 0            0           0   \n",
      "2868                  0                 0            0           0   \n",
      "2869                  1                 0            0           0   \n",
      "2870                  0                 0            0           0   \n",
      "\n",
      "      Active Max  Active Min     Idle Mean      Idle Std      Idle Max  \\\n",
      "0              0           0  1.579890e+15  3.497194e+07  1.579890e+15   \n",
      "1              0           0  1.404347e+15  5.266301e+14  1.579890e+15   \n",
      "2              0           0  6.103133e+07  0.000000e+00  6.103133e+07   \n",
      "3              0           0  1.404347e+15  5.266301e+14  1.579890e+15   \n",
      "4              0           0  1.316575e+15  6.449876e+14  1.579890e+15   \n",
      "...          ...         ...           ...           ...           ...   \n",
      "2866           0           0  1.579920e+15  4.187204e+04  1.579920e+15   \n",
      "2867           0           0  1.579909e+15  2.709748e+06  1.579909e+15   \n",
      "2868           0           0  1.579919e+15  0.000000e+00  1.579919e+15   \n",
      "2869           0           0  1.579907e+15  2.208860e+04  1.579907e+15   \n",
      "2870           0           0  0.000000e+00  0.000000e+00  0.000000e+00   \n",
      "\n",
      "          Idle Min  \n",
      "0     1.579890e+15  \n",
      "1     1.003563e+07  \n",
      "2     6.103133e+07  \n",
      "3     2.109330e+07  \n",
      "4     1.618179e+07  \n",
      "...            ...  \n",
      "2866  1.579920e+15  \n",
      "2867  1.579909e+15  \n",
      "2868  1.579919e+15  \n",
      "2869  1.579907e+15  \n",
      "2870  0.000000e+00  \n",
      "\n",
      "[2871 rows x 79 columns]\n"
     ]
    }
   ],
   "source": [
    "benign = read_csv(\"~/Desktop/research/alexa/benign_data/cic_output/idle.pcap_Flow.csv\")  \n",
    "malware = read_csv(\"~/Desktop/research/alexa/infected_data/cic_output/idle.pcap_Flow.csv\")\n",
    "\n",
    "benign = benign.drop(['Label', 'Src IP', 'Dst IP', 'Flow ID', 'Timestamp'], axis=1)\n",
    "malware = malware.drop(['Label', 'Src IP', 'Dst IP', 'Flow ID', 'Timestamp'], axis=1)\n",
    "print(benign)"
   ]
  },
  {
   "cell_type": "code",
   "execution_count": 33,
   "metadata": {},
   "outputs": [
    {
     "name": "stdout",
     "output_type": "stream",
     "text": [
      "[ 0.00000000e+00  0.00000000e+00  0.00000000e+00  1.18169498e+08\n",
      "  7.30000000e+01  1.00000000e+00  0.00000000e+00  0.00000000e+00\n",
      "  0.00000000e+00  0.00000000e+00  0.00000000e+00  0.00000000e+00\n",
      "  0.00000000e+00  0.00000000e+00  0.00000000e+00  0.00000000e+00\n",
      "  0.00000000e+00  6.26219128e-01  1.61876025e+06  1.04634674e+06\n",
      "  6.12999600e+06  1.71000000e+02  1.16325836e+08  1.61563661e+06\n",
      "  1.05334682e+06  6.12999600e+06  1.71000000e+02  0.00000000e+00\n",
      "  0.00000000e+00  0.00000000e+00  0.00000000e+00  0.00000000e+00\n",
      "  0.00000000e+00  0.00000000e+00  0.00000000e+00  0.00000000e+00\n",
      "  0.00000000e+00  0.00000000e+00  6.17756707e-01  8.46242065e-03\n",
      "  0.00000000e+00  0.00000000e+00  0.00000000e+00  0.00000000e+00\n",
      "  0.00000000e+00  0.00000000e+00  0.00000000e+00  0.00000000e+00\n",
      "  0.00000000e+00  0.00000000e+00  0.00000000e+00  0.00000000e+00\n",
      "  0.00000000e+00  0.00000000e+00  0.00000000e+00  0.00000000e+00\n",
      "  0.00000000e+00  0.00000000e+00  0.00000000e+00  0.00000000e+00\n",
      "  0.00000000e+00  0.00000000e+00  0.00000000e+00  0.00000000e+00\n",
      "  0.00000000e+00  0.00000000e+00  0.00000000e+00 -1.00000000e+00\n",
      " -1.00000000e+00  0.00000000e+00  0.00000000e+00  0.00000000e+00\n",
      "  0.00000000e+00  0.00000000e+00  0.00000000e+00  1.57989042e+15\n",
      "  3.49719355e+07  1.57989048e+15  1.57989036e+15]\n"
     ]
    }
   ],
   "source": [
    "benign = np.array(benign)\n",
    "malware = np.array(malware)\n",
    "print(benign[0])"
   ]
  },
  {
   "cell_type": "code",
   "execution_count": 34,
   "metadata": {},
   "outputs": [],
   "source": [
    "with open('MalwareData.csv', \"w\") as csv_file:\n",
    "        writer = csv.writer(csv_file, delimiter=',')\n",
    "        \n",
    "        writer.writerow(['task']+list(range(len(benign[0]))))\n",
    "        \n",
    "        for line in benign:\n",
    "            writer.writerow(['b']+list(line))\n",
    "            \n",
    "        for line in malware:\n",
    "            writer.writerow(['m']+list(line))\n"
   ]
  },
  {
   "cell_type": "code",
   "execution_count": 39,
   "metadata": {},
   "outputs": [
    {
     "name": "stdout",
     "output_type": "stream",
     "text": [
      "100\n",
      "running expiremnt:  0\n",
      "running expiremnt:  1\n",
      "running expiremnt:  2\n",
      "running expiremnt:  3\n",
      "running expiremnt:  4\n",
      "0.9424130706752013 +/- 0.0006372714742070559\n",
      "0.9432446740618362 0.9413661986714092\n"
     ]
    }
   ],
   "source": [
    "\n",
    "def kfold(clr,X,y,folds):\n",
    "    auc_sum=0\n",
    "    kf = StratifiedKFold(n_splits=folds)\n",
    "    for train_index, test_index in kf.split(X, y):\n",
    "        X_train, X_test = X[train_index], X[test_index]\n",
    "        y_train, y_test = y[train_index], y[test_index]\n",
    "        clr.fit(X_train, y_train)\n",
    "        pred_test = clr.predict(X_test)\n",
    "        auc_sum+=metrics.accuracy_score(y_test, pred_test)\n",
    "    return auc_sum/folds\n",
    "\n",
    "\n",
    "def RandomForest(filePath, kfolds,estimators,numExpirments):\n",
    "    \n",
    "    X = read_csv(filePath)\n",
    "    y=X['task']\n",
    "\n",
    "    #changes N, and Y to 0, and 1 respectively\n",
    "    s = np.unique(y)\n",
    "    mapping = Series([x[0] for x in enumerate(s)], index = s)  \n",
    "    y=y.map(mapping) \n",
    "    del X['task']\n",
    "\n",
    "    #initialize random forests (by defualt it is set to 10 trees)\n",
    "    rf=RandomForestClassifier(estimators)\n",
    "    #run algorithm\n",
    "    results = []\n",
    "    for i in range(numExpirments):\n",
    "        print('running expiremnt: ',i)\n",
    "        results.append(kfold(rf,np.array(X),y,kfolds))\n",
    "    \n",
    "    return results\n",
    "\n",
    "\n",
    "\n",
    "\n",
    "estimators = 100\n",
    "kfolds = 10\n",
    "numExpirments = 5\n",
    "\n",
    "filePath = 'MalwareData.csv'\n",
    "results = RandomForest(filePath, kfolds, estimators, numExpirments)\n",
    "print(sum(results)/len(results),'+/-',np.std(results))\n",
    "print(max(results),min(results))"
   ]
  },
  {
   "cell_type": "code",
   "execution_count": null,
   "metadata": {},
   "outputs": [],
   "source": [
    "\n"
   ]
  }
 ],
 "metadata": {
  "kernelspec": {
   "display_name": "Python 3",
   "language": "python",
   "name": "python3"
  },
  "language_info": {
   "codemirror_mode": {
    "name": "ipython",
    "version": 3
   },
   "file_extension": ".py",
   "mimetype": "text/x-python",
   "name": "python",
   "nbconvert_exporter": "python",
   "pygments_lexer": "ipython3",
   "version": "3.7.4"
  }
 },
 "nbformat": 4,
 "nbformat_minor": 2
}
